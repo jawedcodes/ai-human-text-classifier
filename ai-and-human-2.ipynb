{
 "cells": [
  {
   "cell_type": "code",
   "execution_count": 1,
   "metadata": {
    "_cell_guid": "b1076dfc-b9ad-4769-8c92-a6c4dae69d19",
    "_uuid": "8f2839f25d086af736a60e9eeb907d3b93b6e0e5",
    "execution": {
     "iopub.execute_input": "2025-08-02T09:52:29.640457Z",
     "iopub.status.busy": "2025-08-02T09:52:29.639809Z",
     "iopub.status.idle": "2025-08-02T09:52:30.030192Z",
     "shell.execute_reply": "2025-08-02T09:52:30.029231Z",
     "shell.execute_reply.started": "2025-08-02T09:52:29.640434Z"
    },
    "trusted": true
   },
   "outputs": [
    {
     "name": "stdout",
     "output_type": "stream",
     "text": [
      "/kaggle/input/ai-generated-essays-dataset/AI Generated Essays Dataset.csv\n"
     ]
    }
   ],
   "source": [
    "# This Python 3 environment comes with many helpful analytics libraries installed\n",
    "# It is defined by the kaggle/python Docker image: https://github.com/kaggle/docker-python\n",
    "# For example, here's several helpful packages to load\n",
    "\n",
    "import numpy as np # linear algebra\n",
    "import pandas as pd # data processing, CSV file I/O (e.g. pd.read_csv)\n",
    "\n",
    "# Input data files are available in the read-only \"../input/\" directory\n",
    "# For example, running this (by clicking run or pressing Shift+Enter) will list all files under the input directory\n",
    "\n",
    "import os\n",
    "for dirname, _, filenames in os.walk('/kaggle/input'):\n",
    "    for filename in filenames:\n",
    "        print(os.path.join(dirname, filename))\n",
    "\n",
    "# You can write up to 20GB to the current directory (/kaggle/working/) that gets preserved as output when you create a version using \"Save & Run All\" \n",
    "# You can also write temporary files to /kaggle/temp/, but they won't be saved outside of the current session"
   ]
  },
  {
   "cell_type": "code",
   "execution_count": 2,
   "metadata": {
    "execution": {
     "iopub.execute_input": "2025-08-02T09:52:30.035367Z",
     "iopub.status.busy": "2025-08-02T09:52:30.035084Z",
     "iopub.status.idle": "2025-08-02T09:52:30.097045Z",
     "shell.execute_reply": "2025-08-02T09:52:30.096206Z",
     "shell.execute_reply.started": "2025-08-02T09:52:30.035346Z"
    },
    "trusted": true
   },
   "outputs": [],
   "source": [
    "df=pd.read_csv('/kaggle/input/ai-generated-essays-dataset/AI Generated Essays Dataset.csv')"
   ]
  },
  {
   "cell_type": "code",
   "execution_count": 3,
   "metadata": {
    "execution": {
     "iopub.execute_input": "2025-08-02T09:52:30.098466Z",
     "iopub.status.busy": "2025-08-02T09:52:30.098192Z",
     "iopub.status.idle": "2025-08-02T09:52:30.109800Z",
     "shell.execute_reply": "2025-08-02T09:52:30.108917Z",
     "shell.execute_reply.started": "2025-08-02T09:52:30.098442Z"
    },
    "trusted": true
   },
   "outputs": [
    {
     "data": {
      "text/html": [
       "<div>\n",
       "<style scoped>\n",
       "    .dataframe tbody tr th:only-of-type {\n",
       "        vertical-align: middle;\n",
       "    }\n",
       "\n",
       "    .dataframe tbody tr th {\n",
       "        vertical-align: top;\n",
       "    }\n",
       "\n",
       "    .dataframe thead th {\n",
       "        text-align: right;\n",
       "    }\n",
       "</style>\n",
       "<table border=\"1\" class=\"dataframe\">\n",
       "  <thead>\n",
       "    <tr style=\"text-align: right;\">\n",
       "      <th></th>\n",
       "      <th>text</th>\n",
       "      <th>generated</th>\n",
       "    </tr>\n",
       "  </thead>\n",
       "  <tbody>\n",
       "    <tr>\n",
       "      <th>0</th>\n",
       "      <td>Machine learning, a subset of artificial intel...</td>\n",
       "      <td>1</td>\n",
       "    </tr>\n",
       "    <tr>\n",
       "      <th>1</th>\n",
       "      <td>A decision tree, a prominent machine learning ...</td>\n",
       "      <td>1</td>\n",
       "    </tr>\n",
       "    <tr>\n",
       "      <th>2</th>\n",
       "      <td>Education, a cornerstone of societal progress,...</td>\n",
       "      <td>1</td>\n",
       "    </tr>\n",
       "    <tr>\n",
       "      <th>3</th>\n",
       "      <td>Computers, the backbone of modern technology, ...</td>\n",
       "      <td>1</td>\n",
       "    </tr>\n",
       "    <tr>\n",
       "      <th>4</th>\n",
       "      <td>Chess, a timeless game of strategy and intelle...</td>\n",
       "      <td>1</td>\n",
       "    </tr>\n",
       "  </tbody>\n",
       "</table>\n",
       "</div>"
      ],
      "text/plain": [
       "                                                text  generated\n",
       "0  Machine learning, a subset of artificial intel...          1\n",
       "1  A decision tree, a prominent machine learning ...          1\n",
       "2  Education, a cornerstone of societal progress,...          1\n",
       "3  Computers, the backbone of modern technology, ...          1\n",
       "4  Chess, a timeless game of strategy and intelle...          1"
      ]
     },
     "execution_count": 3,
     "metadata": {},
     "output_type": "execute_result"
    }
   ],
   "source": [
    "df.head()"
   ]
  },
  {
   "cell_type": "code",
   "execution_count": 4,
   "metadata": {
    "execution": {
     "iopub.execute_input": "2025-08-02T09:52:30.111879Z",
     "iopub.status.busy": "2025-08-02T09:52:30.111048Z",
     "iopub.status.idle": "2025-08-02T09:52:34.342074Z",
     "shell.execute_reply": "2025-08-02T09:52:34.341236Z",
     "shell.execute_reply.started": "2025-08-02T09:52:30.111839Z"
    },
    "trusted": true
   },
   "outputs": [
    {
     "name": "stderr",
     "output_type": "stream",
     "text": [
      "2025-08-02 09:52:30.448944: E external/local_xla/xla/stream_executor/cuda/cuda_fft.cc:477] Unable to register cuFFT factory: Attempting to register factory for plugin cuFFT when one has already been registered\n",
      "WARNING: All log messages before absl::InitializeLog() is called are written to STDERR\n",
      "E0000 00:00:1754128350.476510    1736 cuda_dnn.cc:8310] Unable to register cuDNN factory: Attempting to register factory for plugin cuDNN when one has already been registered\n",
      "E0000 00:00:1754128350.484605    1736 cuda_blas.cc:1418] Unable to register cuBLAS factory: Attempting to register factory for plugin cuBLAS when one has already been registered\n"
     ]
    }
   ],
   "source": [
    "from tensorflow.keras.preprocessing.text import Tokenizer\n",
    "from keras.preprocessing.sequence import pad_sequences\n",
    "from keras.models import Sequential\n",
    "from keras.layers import Dense, Embedding, LSTM\n",
    "from sklearn. model_selection import train_test_split"
   ]
  },
  {
   "cell_type": "code",
   "execution_count": 5,
   "metadata": {
    "execution": {
     "iopub.execute_input": "2025-08-02T09:52:34.343794Z",
     "iopub.status.busy": "2025-08-02T09:52:34.342940Z",
     "iopub.status.idle": "2025-08-02T09:52:34.736284Z",
     "shell.execute_reply": "2025-08-02T09:52:34.735441Z",
     "shell.execute_reply.started": "2025-08-02T09:52:34.343766Z"
    },
    "trusted": true
   },
   "outputs": [],
   "source": [
    "tokenizer=Tokenizer(num_words=700)\n",
    "tokenizer.fit_on_texts(df['text'])"
   ]
  },
  {
   "cell_type": "code",
   "execution_count": 6,
   "metadata": {
    "execution": {
     "iopub.execute_input": "2025-08-02T09:52:34.737282Z",
     "iopub.status.busy": "2025-08-02T09:52:34.737006Z",
     "iopub.status.idle": "2025-08-02T09:52:34.741172Z",
     "shell.execute_reply": "2025-08-02T09:52:34.740341Z",
     "shell.execute_reply.started": "2025-08-02T09:52:34.737262Z"
    },
    "trusted": true
   },
   "outputs": [],
   "source": [
    "word_index=tokenizer.word_index"
   ]
  },
  {
   "cell_type": "code",
   "execution_count": 7,
   "metadata": {
    "execution": {
     "iopub.execute_input": "2025-08-02T09:52:34.742575Z",
     "iopub.status.busy": "2025-08-02T09:52:34.742004Z",
     "iopub.status.idle": "2025-08-02T09:52:34.976260Z",
     "shell.execute_reply": "2025-08-02T09:52:34.975453Z",
     "shell.execute_reply.started": "2025-08-02T09:52:34.742545Z"
    },
    "trusted": true
   },
   "outputs": [],
   "source": [
    "sequences=tokenizer.texts_to_sequences(df['text'])"
   ]
  },
  {
   "cell_type": "code",
   "execution_count": 8,
   "metadata": {
    "execution": {
     "iopub.execute_input": "2025-08-02T09:52:34.977372Z",
     "iopub.status.busy": "2025-08-02T09:52:34.977092Z",
     "iopub.status.idle": "2025-08-02T09:52:34.998745Z",
     "shell.execute_reply": "2025-08-02T09:52:34.997810Z",
     "shell.execute_reply.started": "2025-08-02T09:52:34.977350Z"
    },
    "trusted": true
   },
   "outputs": [],
   "source": [
    "pad=pad_sequences(sequences,maxlen=50) #x value\n",
    "y=df[\"generated\"].values"
   ]
  },
  {
   "cell_type": "code",
   "execution_count": 9,
   "metadata": {
    "execution": {
     "iopub.execute_input": "2025-08-02T09:52:35.000202Z",
     "iopub.status.busy": "2025-08-02T09:52:34.999896Z",
     "iopub.status.idle": "2025-08-02T09:52:35.006525Z",
     "shell.execute_reply": "2025-08-02T09:52:35.005684Z",
     "shell.execute_reply.started": "2025-08-02T09:52:35.000173Z"
    },
    "trusted": true
   },
   "outputs": [],
   "source": [
    "x_train,x_test,y_train,y_test=train_test_split(pad,y,train_size=0.8,random_state=42)"
   ]
  },
  {
   "cell_type": "code",
   "execution_count": 11,
   "metadata": {
    "execution": {
     "iopub.execute_input": "2025-08-02T09:55:22.092449Z",
     "iopub.status.busy": "2025-08-02T09:55:22.091638Z",
     "iopub.status.idle": "2025-08-02T09:56:09.562573Z",
     "shell.execute_reply": "2025-08-02T09:56:09.561654Z",
     "shell.execute_reply.started": "2025-08-02T09:55:22.092416Z"
    },
    "trusted": true
   },
   "outputs": [
    {
     "name": "stdout",
     "output_type": "stream",
     "text": [
      "Epoch 1/32\n",
      "\u001b[1m19/19\u001b[0m \u001b[32m━━━━━━━━━━━━━━━━━━━━\u001b[0m\u001b[37m\u001b[0m \u001b[1m6s\u001b[0m 97ms/step - accuracy: 0.8676 - loss: 0.5388 - val_accuracy: 0.9452 - val_loss: 0.2195\n",
      "Epoch 2/32\n",
      "\u001b[1m19/19\u001b[0m \u001b[32m━━━━━━━━━━━━━━━━━━━━\u001b[0m\u001b[37m\u001b[0m \u001b[1m1s\u001b[0m 69ms/step - accuracy: 0.9648 - loss: 0.1475 - val_accuracy: 0.9452 - val_loss: 0.2164\n",
      "Epoch 3/32\n",
      "\u001b[1m19/19\u001b[0m \u001b[32m━━━━━━━━━━━━━━━━━━━━\u001b[0m\u001b[37m\u001b[0m \u001b[1m1s\u001b[0m 69ms/step - accuracy: 0.9620 - loss: 0.1589 - val_accuracy: 0.9452 - val_loss: 0.2170\n",
      "Epoch 4/32\n",
      "\u001b[1m19/19\u001b[0m \u001b[32m━━━━━━━━━━━━━━━━━━━━\u001b[0m\u001b[37m\u001b[0m \u001b[1m1s\u001b[0m 70ms/step - accuracy: 0.9697 - loss: 0.1305 - val_accuracy: 0.9452 - val_loss: 0.2030\n",
      "Epoch 5/32\n",
      "\u001b[1m19/19\u001b[0m \u001b[32m━━━━━━━━━━━━━━━━━━━━\u001b[0m\u001b[37m\u001b[0m \u001b[1m1s\u001b[0m 70ms/step - accuracy: 0.9656 - loss: 0.1351 - val_accuracy: 0.9452 - val_loss: 0.1863\n",
      "Epoch 6/32\n",
      "\u001b[1m19/19\u001b[0m \u001b[32m━━━━━━━━━━━━━━━━━━━━\u001b[0m\u001b[37m\u001b[0m \u001b[1m1s\u001b[0m 69ms/step - accuracy: 0.9715 - loss: 0.0938 - val_accuracy: 0.9452 - val_loss: 0.0977\n",
      "Epoch 7/32\n",
      "\u001b[1m19/19\u001b[0m \u001b[32m━━━━━━━━━━━━━━━━━━━━\u001b[0m\u001b[37m\u001b[0m \u001b[1m1s\u001b[0m 71ms/step - accuracy: 0.9808 - loss: 0.0565 - val_accuracy: 0.9726 - val_loss: 0.0730\n",
      "Epoch 8/32\n",
      "\u001b[1m19/19\u001b[0m \u001b[32m━━━━━━━━━━━━━━━━━━━━\u001b[0m\u001b[37m\u001b[0m \u001b[1m1s\u001b[0m 69ms/step - accuracy: 0.9954 - loss: 0.0408 - val_accuracy: 0.9932 - val_loss: 0.0463\n",
      "Epoch 9/32\n",
      "\u001b[1m19/19\u001b[0m \u001b[32m━━━━━━━━━━━━━━━━━━━━\u001b[0m\u001b[37m\u001b[0m \u001b[1m1s\u001b[0m 70ms/step - accuracy: 0.9968 - loss: 0.0201 - val_accuracy: 0.9966 - val_loss: 0.0325\n",
      "Epoch 10/32\n",
      "\u001b[1m19/19\u001b[0m \u001b[32m━━━━━━━━━━━━━━━━━━━━\u001b[0m\u001b[37m\u001b[0m \u001b[1m1s\u001b[0m 70ms/step - accuracy: 0.9944 - loss: 0.0320 - val_accuracy: 0.9932 - val_loss: 0.0418\n",
      "Epoch 11/32\n",
      "\u001b[1m19/19\u001b[0m \u001b[32m━━━━━━━━━━━━━━━━━━━━\u001b[0m\u001b[37m\u001b[0m \u001b[1m1s\u001b[0m 70ms/step - accuracy: 0.9966 - loss: 0.0178 - val_accuracy: 0.9932 - val_loss: 0.0424\n",
      "Epoch 12/32\n",
      "\u001b[1m19/19\u001b[0m \u001b[32m━━━━━━━━━━━━━━━━━━━━\u001b[0m\u001b[37m\u001b[0m \u001b[1m1s\u001b[0m 70ms/step - accuracy: 0.9957 - loss: 0.0223 - val_accuracy: 0.9932 - val_loss: 0.0443\n",
      "Epoch 13/32\n",
      "\u001b[1m19/19\u001b[0m \u001b[32m━━━━━━━━━━━━━━━━━━━━\u001b[0m\u001b[37m\u001b[0m \u001b[1m1s\u001b[0m 69ms/step - accuracy: 0.9989 - loss: 0.0118 - val_accuracy: 0.9966 - val_loss: 0.0365\n",
      "Epoch 14/32\n",
      "\u001b[1m19/19\u001b[0m \u001b[32m━━━━━━━━━━━━━━━━━━━━\u001b[0m\u001b[37m\u001b[0m \u001b[1m1s\u001b[0m 70ms/step - accuracy: 0.9996 - loss: 0.0084 - val_accuracy: 0.9966 - val_loss: 0.0329\n",
      "Epoch 15/32\n",
      "\u001b[1m19/19\u001b[0m \u001b[32m━━━━━━━━━━━━━━━━━━━━\u001b[0m\u001b[37m\u001b[0m \u001b[1m1s\u001b[0m 70ms/step - accuracy: 0.9996 - loss: 0.0042 - val_accuracy: 0.9966 - val_loss: 0.0317\n",
      "Epoch 16/32\n",
      "\u001b[1m19/19\u001b[0m \u001b[32m━━━━━━━━━━━━━━━━━━━━\u001b[0m\u001b[37m\u001b[0m \u001b[1m1s\u001b[0m 69ms/step - accuracy: 0.9998 - loss: 0.0026 - val_accuracy: 0.9966 - val_loss: 0.0315\n",
      "Epoch 17/32\n",
      "\u001b[1m19/19\u001b[0m \u001b[32m━━━━━━━━━━━━━━━━━━━━\u001b[0m\u001b[37m\u001b[0m \u001b[1m1s\u001b[0m 70ms/step - accuracy: 1.0000 - loss: 0.0020 - val_accuracy: 0.9966 - val_loss: 0.0315\n",
      "Epoch 18/32\n",
      "\u001b[1m19/19\u001b[0m \u001b[32m━━━━━━━━━━━━━━━━━━━━\u001b[0m\u001b[37m\u001b[0m \u001b[1m1s\u001b[0m 70ms/step - accuracy: 1.0000 - loss: 0.0013 - val_accuracy: 0.9966 - val_loss: 0.0317\n",
      "Epoch 19/32\n",
      "\u001b[1m19/19\u001b[0m \u001b[32m━━━━━━━━━━━━━━━━━━━━\u001b[0m\u001b[37m\u001b[0m \u001b[1m1s\u001b[0m 69ms/step - accuracy: 1.0000 - loss: 9.8797e-04 - val_accuracy: 0.9966 - val_loss: 0.0318\n",
      "Epoch 20/32\n",
      "\u001b[1m19/19\u001b[0m \u001b[32m━━━━━━━━━━━━━━━━━━━━\u001b[0m\u001b[37m\u001b[0m \u001b[1m1s\u001b[0m 69ms/step - accuracy: 1.0000 - loss: 8.5769e-04 - val_accuracy: 0.9966 - val_loss: 0.0320\n",
      "Epoch 21/32\n",
      "\u001b[1m19/19\u001b[0m \u001b[32m━━━━━━━━━━━━━━━━━━━━\u001b[0m\u001b[37m\u001b[0m \u001b[1m1s\u001b[0m 69ms/step - accuracy: 1.0000 - loss: 8.6217e-04 - val_accuracy: 0.9966 - val_loss: 0.0323\n",
      "Epoch 22/32\n",
      "\u001b[1m19/19\u001b[0m \u001b[32m━━━━━━━━━━━━━━━━━━━━\u001b[0m\u001b[37m\u001b[0m \u001b[1m1s\u001b[0m 71ms/step - accuracy: 1.0000 - loss: 8.4541e-04 - val_accuracy: 0.9966 - val_loss: 0.0328\n",
      "Epoch 23/32\n",
      "\u001b[1m19/19\u001b[0m \u001b[32m━━━━━━━━━━━━━━━━━━━━\u001b[0m\u001b[37m\u001b[0m \u001b[1m1s\u001b[0m 69ms/step - accuracy: 1.0000 - loss: 7.1313e-04 - val_accuracy: 0.9966 - val_loss: 0.0330\n",
      "Epoch 24/32\n",
      "\u001b[1m19/19\u001b[0m \u001b[32m━━━━━━━━━━━━━━━━━━━━\u001b[0m\u001b[37m\u001b[0m \u001b[1m1s\u001b[0m 70ms/step - accuracy: 1.0000 - loss: 0.0010 - val_accuracy: 0.9966 - val_loss: 0.0331\n",
      "Epoch 25/32\n",
      "\u001b[1m19/19\u001b[0m \u001b[32m━━━━━━━━━━━━━━━━━━━━\u001b[0m\u001b[37m\u001b[0m \u001b[1m1s\u001b[0m 69ms/step - accuracy: 1.0000 - loss: 5.6560e-04 - val_accuracy: 0.9966 - val_loss: 0.0333\n",
      "Epoch 26/32\n",
      "\u001b[1m19/19\u001b[0m \u001b[32m━━━━━━━━━━━━━━━━━━━━\u001b[0m\u001b[37m\u001b[0m \u001b[1m1s\u001b[0m 70ms/step - accuracy: 1.0000 - loss: 4.7603e-04 - val_accuracy: 0.9966 - val_loss: 0.0331\n",
      "Epoch 27/32\n",
      "\u001b[1m19/19\u001b[0m \u001b[32m━━━━━━━━━━━━━━━━━━━━\u001b[0m\u001b[37m\u001b[0m \u001b[1m1s\u001b[0m 70ms/step - accuracy: 1.0000 - loss: 3.8791e-04 - val_accuracy: 0.9966 - val_loss: 0.0332\n",
      "Epoch 28/32\n",
      "\u001b[1m19/19\u001b[0m \u001b[32m━━━━━━━━━━━━━━━━━━━━\u001b[0m\u001b[37m\u001b[0m \u001b[1m1s\u001b[0m 70ms/step - accuracy: 1.0000 - loss: 4.0218e-04 - val_accuracy: 0.9966 - val_loss: 0.0334\n",
      "Epoch 29/32\n",
      "\u001b[1m19/19\u001b[0m \u001b[32m━━━━━━━━━━━━━━━━━━━━\u001b[0m\u001b[37m\u001b[0m \u001b[1m1s\u001b[0m 71ms/step - accuracy: 1.0000 - loss: 3.0610e-04 - val_accuracy: 0.9966 - val_loss: 0.0335\n",
      "Epoch 30/32\n",
      "\u001b[1m19/19\u001b[0m \u001b[32m━━━━━━━━━━━━━━━━━━━━\u001b[0m\u001b[37m\u001b[0m \u001b[1m1s\u001b[0m 68ms/step - accuracy: 1.0000 - loss: 3.4640e-04 - val_accuracy: 0.9966 - val_loss: 0.0337\n",
      "Epoch 31/32\n",
      "\u001b[1m19/19\u001b[0m \u001b[32m━━━━━━━━━━━━━━━━━━━━\u001b[0m\u001b[37m\u001b[0m \u001b[1m1s\u001b[0m 69ms/step - accuracy: 1.0000 - loss: 2.7279e-04 - val_accuracy: 0.9966 - val_loss: 0.0338\n",
      "Epoch 32/32\n",
      "\u001b[1m19/19\u001b[0m \u001b[32m━━━━━━━━━━━━━━━━━━━━\u001b[0m\u001b[37m\u001b[0m \u001b[1m1s\u001b[0m 69ms/step - accuracy: 1.0000 - loss: 2.4394e-04 - val_accuracy: 0.9966 - val_loss: 0.0340\n"
     ]
    },
    {
     "data": {
      "text/plain": [
       "<keras.src.callbacks.history.History at 0x7d5462f3bc10>"
      ]
     },
     "execution_count": 11,
     "metadata": {},
     "output_type": "execute_result"
    }
   ],
   "source": [
    "model=Sequential()\n",
    "\n",
    "model.add(Embedding(700,100,input_length=50))\n",
    "model.add(LSTM(128,dropout=0.2))\n",
    "model.add(Dense(1,activation='sigmoid'))\n",
    "\n",
    "model.compile(loss='binary_crossentropy',optimizer='adam',metrics=['accuracy'])\n",
    "\n",
    "model.fit(x_train,y_train,validation_data=(x_test,y_test),epochs=32,batch_size=64)"
   ]
  },
  {
   "cell_type": "code",
   "execution_count": 12,
   "metadata": {
    "execution": {
     "iopub.execute_input": "2025-08-02T09:56:18.423350Z",
     "iopub.status.busy": "2025-08-02T09:56:18.422716Z",
     "iopub.status.idle": "2025-08-02T09:56:18.789864Z",
     "shell.execute_reply": "2025-08-02T09:56:18.788728Z",
     "shell.execute_reply.started": "2025-08-02T09:56:18.423321Z"
    },
    "trusted": true
   },
   "outputs": [
    {
     "name": "stdout",
     "output_type": "stream",
     "text": [
      "\u001b[1m1/1\u001b[0m \u001b[32m━━━━━━━━━━━━━━━━━━━━\u001b[0m\u001b[37m\u001b[0m \u001b[1m0s\u001b[0m 300ms/step\n"
     ]
    },
    {
     "data": {
      "text/plain": [
       "array([[99.84542]], dtype=float32)"
      ]
     },
     "execution_count": 12,
     "metadata": {},
     "output_type": "execute_result"
    }
   ],
   "source": [
    "prediction='''Machine learning, a subset of artificial intelligence, has rapidly emerged as a transformative force, revolutionizing industries and redefining the possibilities of technology. At its core, machine learning enables computers to learn from data and make informed decisions without explicit programming, with applications ranging from image recognition and language processing to autonomous systems. As machine learning continues to advance, it brings both opportunities and challenges, with issues of bias, transparency, and privacy demanding careful consideration. The impact of machine learning is profound, shaping a future where intelligent systems contribute to efficiency, innovation, and a more interconnected world.'''\n",
    "\n",
    "prediction_array=tokenizer.texts_to_sequences([prediction])\n",
    "prediction_array=pad_sequences(prediction_array,maxlen=50)\n",
    "\n",
    "model.predict(prediction_array)*100"
   ]
  },
  {
   "cell_type": "code",
   "execution_count": 13,
   "metadata": {
    "execution": {
     "iopub.execute_input": "2025-08-02T09:56:23.061313Z",
     "iopub.status.busy": "2025-08-02T09:56:23.060949Z",
     "iopub.status.idle": "2025-08-02T09:56:23.065723Z",
     "shell.execute_reply": "2025-08-02T09:56:23.064716Z",
     "shell.execute_reply.started": "2025-08-02T09:56:23.061284Z"
    },
    "trusted": true
   },
   "outputs": [],
   "source": [
    "import pickle"
   ]
  },
  {
   "cell_type": "code",
   "execution_count": 14,
   "metadata": {
    "execution": {
     "iopub.execute_input": "2025-08-02T09:56:26.711382Z",
     "iopub.status.busy": "2025-08-02T09:56:26.711012Z",
     "iopub.status.idle": "2025-08-02T09:56:26.732366Z",
     "shell.execute_reply": "2025-08-02T09:56:26.731303Z",
     "shell.execute_reply.started": "2025-08-02T09:56:26.711351Z"
    },
    "trusted": true
   },
   "outputs": [],
   "source": [
    "with open('tokenizer.pkl', 'wb') as f:\n",
    "    pickle.dump(tokenizer, f)"
   ]
  },
  {
   "cell_type": "code",
   "execution_count": 15,
   "metadata": {
    "execution": {
     "iopub.execute_input": "2025-08-02T09:56:30.191606Z",
     "iopub.status.busy": "2025-08-02T09:56:30.190951Z",
     "iopub.status.idle": "2025-08-02T09:56:30.196053Z",
     "shell.execute_reply": "2025-08-02T09:56:30.195178Z",
     "shell.execute_reply.started": "2025-08-02T09:56:30.191579Z"
    },
    "trusted": true
   },
   "outputs": [],
   "source": [
    "from tensorflow.keras.models import load_model"
   ]
  },
  {
   "cell_type": "code",
   "execution_count": 16,
   "metadata": {
    "execution": {
     "iopub.execute_input": "2025-08-02T09:56:32.781207Z",
     "iopub.status.busy": "2025-08-02T09:56:32.780869Z",
     "iopub.status.idle": "2025-08-02T09:56:32.819979Z",
     "shell.execute_reply": "2025-08-02T09:56:32.819088Z",
     "shell.execute_reply.started": "2025-08-02T09:56:32.781181Z"
    },
    "trusted": true
   },
   "outputs": [],
   "source": [
    "model=model.save('model.h5')"
   ]
  }
 ],
 "metadata": {
  "kaggle": {
   "accelerator": "none",
   "dataSources": [
    {
     "datasetId": 7792257,
     "sourceId": 12359482,
     "sourceType": "datasetVersion"
    }
   ],
   "dockerImageVersionId": 31089,
   "isGpuEnabled": false,
   "isInternetEnabled": true,
   "language": "python",
   "sourceType": "notebook"
  },
  "kernelspec": {
   "display_name": "Python 3",
   "language": "python",
   "name": "python3"
  },
  "language_info": {
   "codemirror_mode": {
    "name": "ipython",
    "version": 3
   },
   "file_extension": ".py",
   "mimetype": "text/x-python",
   "name": "python",
   "nbconvert_exporter": "python",
   "pygments_lexer": "ipython3",
   "version": "3.11.13"
  }
 },
 "nbformat": 4,
 "nbformat_minor": 4
}
