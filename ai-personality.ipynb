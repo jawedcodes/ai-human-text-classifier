{
 "cells": [
  {
   "cell_type": "code",
   "execution_count": 1,
   "id": "3f2beab7",
   "metadata": {
    "_cell_guid": "b1076dfc-b9ad-4769-8c92-a6c4dae69d19",
    "_uuid": "8f2839f25d086af736a60e9eeb907d3b93b6e0e5",
    "execution": {
     "iopub.execute_input": "2025-08-05T12:00:52.458548Z",
     "iopub.status.busy": "2025-08-05T12:00:52.458237Z",
     "iopub.status.idle": "2025-08-05T12:00:54.593999Z",
     "shell.execute_reply": "2025-08-05T12:00:54.592853Z"
    },
    "papermill": {
     "duration": 2.141314,
     "end_time": "2025-08-05T12:00:54.595721",
     "exception": false,
     "start_time": "2025-08-05T12:00:52.454407",
     "status": "completed"
    },
    "tags": []
   },
   "outputs": [
    {
     "name": "stdout",
     "output_type": "stream",
     "text": [
      "/kaggle/input/ai-thinks-personality-traits-from-selfies/ai_personality_selfie_dataset.csv\n"
     ]
    }
   ],
   "source": [
    "# This Python 3 environment comes with many helpful analytics libraries installed\n",
    "# It is defined by the kaggle/python Docker image: https://github.com/kaggle/docker-python\n",
    "# For example, here's several helpful packages to load\n",
    "\n",
    "import numpy as np # linear algebra\n",
    "import pandas as pd # data processing, CSV file I/O (e.g. pd.read_csv)\n",
    "\n",
    "# Input data files are available in the read-only \"../input/\" directory\n",
    "# For example, running this (by clicking run or pressing Shift+Enter) will list all files under the input directory\n",
    "\n",
    "import os\n",
    "for dirname, _, filenames in os.walk('/kaggle/input'):\n",
    "    for filename in filenames:\n",
    "        print(os.path.join(dirname, filename))\n",
    "\n",
    "# You can write up to 20GB to the current directory (/kaggle/working/) that gets preserved as output when you create a version using \"Save & Run All\" \n",
    "# You can also write temporary files to /kaggle/temp/, but they won't be saved outside of the current session"
   ]
  },
  {
   "cell_type": "code",
   "execution_count": 2,
   "id": "744b3a8b",
   "metadata": {
    "execution": {
     "iopub.execute_input": "2025-08-05T12:00:54.601823Z",
     "iopub.status.busy": "2025-08-05T12:00:54.601389Z",
     "iopub.status.idle": "2025-08-05T12:00:54.625281Z",
     "shell.execute_reply": "2025-08-05T12:00:54.623791Z"
    },
    "papermill": {
     "duration": 0.028983,
     "end_time": "2025-08-05T12:00:54.627272",
     "exception": false,
     "start_time": "2025-08-05T12:00:54.598289",
     "status": "completed"
    },
    "tags": []
   },
   "outputs": [],
   "source": [
    "df=pd.read_csv('/kaggle/input/ai-thinks-personality-traits-from-selfies/ai_personality_selfie_dataset.csv')"
   ]
  },
  {
   "cell_type": "code",
   "execution_count": 3,
   "id": "aa220519",
   "metadata": {
    "execution": {
     "iopub.execute_input": "2025-08-05T12:00:54.632464Z",
     "iopub.status.busy": "2025-08-05T12:00:54.632111Z",
     "iopub.status.idle": "2025-08-05T12:00:54.663180Z",
     "shell.execute_reply": "2025-08-05T12:00:54.662104Z"
    },
    "papermill": {
     "duration": 0.0359,
     "end_time": "2025-08-05T12:00:54.665197",
     "exception": false,
     "start_time": "2025-08-05T12:00:54.629297",
     "status": "completed"
    },
    "tags": []
   },
   "outputs": [
    {
     "data": {
      "text/html": [
       "<div>\n",
       "<style scoped>\n",
       "    .dataframe tbody tr th:only-of-type {\n",
       "        vertical-align: middle;\n",
       "    }\n",
       "\n",
       "    .dataframe tbody tr th {\n",
       "        vertical-align: top;\n",
       "    }\n",
       "\n",
       "    .dataframe thead th {\n",
       "        text-align: right;\n",
       "    }\n",
       "</style>\n",
       "<table border=\"1\" class=\"dataframe\">\n",
       "  <thead>\n",
       "    <tr style=\"text-align: right;\">\n",
       "      <th></th>\n",
       "      <th>image_id</th>\n",
       "      <th>user_selfie</th>\n",
       "      <th>extroversion_score</th>\n",
       "      <th>confidence_level</th>\n",
       "      <th>trustworthiness_score</th>\n",
       "      <th>smile_intensity</th>\n",
       "      <th>eye_contact_score</th>\n",
       "      <th>model_used</th>\n",
       "      <th>age_range</th>\n",
       "      <th>gender</th>\n",
       "      <th>emotion_category</th>\n",
       "    </tr>\n",
       "  </thead>\n",
       "  <tbody>\n",
       "    <tr>\n",
       "      <th>0</th>\n",
       "      <td>img_000.jpg</td>\n",
       "      <td>https://syntheticfaces.ai/img_000.jpg</td>\n",
       "      <td>0.62</td>\n",
       "      <td>0.60</td>\n",
       "      <td>0.56</td>\n",
       "      <td>0.52</td>\n",
       "      <td>0.41</td>\n",
       "      <td>CLIP-ViT-B/32 + GPT-4V</td>\n",
       "      <td>25-34</td>\n",
       "      <td>Other</td>\n",
       "      <td>Neutral</td>\n",
       "    </tr>\n",
       "    <tr>\n",
       "      <th>1</th>\n",
       "      <td>img_001.jpg</td>\n",
       "      <td>https://syntheticfaces.ai/img_001.jpg</td>\n",
       "      <td>0.25</td>\n",
       "      <td>0.58</td>\n",
       "      <td>0.74</td>\n",
       "      <td>0.10</td>\n",
       "      <td>0.15</td>\n",
       "      <td>CLIP-ViT-B/32 + GPT-4V</td>\n",
       "      <td>18-24</td>\n",
       "      <td>Female</td>\n",
       "      <td>Surprised</td>\n",
       "    </tr>\n",
       "    <tr>\n",
       "      <th>2</th>\n",
       "      <td>img_002.jpg</td>\n",
       "      <td>https://syntheticfaces.ai/img_002.jpg</td>\n",
       "      <td>0.33</td>\n",
       "      <td>0.27</td>\n",
       "      <td>0.14</td>\n",
       "      <td>0.86</td>\n",
       "      <td>0.48</td>\n",
       "      <td>CLIP-ViT-B/32 + GPT-4V</td>\n",
       "      <td>45-54</td>\n",
       "      <td>Male</td>\n",
       "      <td>Surprised</td>\n",
       "    </tr>\n",
       "    <tr>\n",
       "      <th>3</th>\n",
       "      <td>img_003.jpg</td>\n",
       "      <td>https://syntheticfaces.ai/img_003.jpg</td>\n",
       "      <td>0.33</td>\n",
       "      <td>0.75</td>\n",
       "      <td>0.35</td>\n",
       "      <td>0.24</td>\n",
       "      <td>0.15</td>\n",
       "      <td>CLIP-ViT-B/32 + GPT-4V</td>\n",
       "      <td>18-24</td>\n",
       "      <td>Non-binary</td>\n",
       "      <td>Angry</td>\n",
       "    </tr>\n",
       "    <tr>\n",
       "      <th>4</th>\n",
       "      <td>img_004.jpg</td>\n",
       "      <td>https://syntheticfaces.ai/img_004.jpg</td>\n",
       "      <td>0.41</td>\n",
       "      <td>0.14</td>\n",
       "      <td>0.91</td>\n",
       "      <td>0.45</td>\n",
       "      <td>0.33</td>\n",
       "      <td>CLIP-ViT-B/32 + GPT-4V</td>\n",
       "      <td>25-34</td>\n",
       "      <td>Female</td>\n",
       "      <td>Neutral</td>\n",
       "    </tr>\n",
       "  </tbody>\n",
       "</table>\n",
       "</div>"
      ],
      "text/plain": [
       "      image_id                            user_selfie  extroversion_score  \\\n",
       "0  img_000.jpg  https://syntheticfaces.ai/img_000.jpg                0.62   \n",
       "1  img_001.jpg  https://syntheticfaces.ai/img_001.jpg                0.25   \n",
       "2  img_002.jpg  https://syntheticfaces.ai/img_002.jpg                0.33   \n",
       "3  img_003.jpg  https://syntheticfaces.ai/img_003.jpg                0.33   \n",
       "4  img_004.jpg  https://syntheticfaces.ai/img_004.jpg                0.41   \n",
       "\n",
       "   confidence_level  trustworthiness_score  smile_intensity  \\\n",
       "0              0.60                   0.56             0.52   \n",
       "1              0.58                   0.74             0.10   \n",
       "2              0.27                   0.14             0.86   \n",
       "3              0.75                   0.35             0.24   \n",
       "4              0.14                   0.91             0.45   \n",
       "\n",
       "   eye_contact_score              model_used age_range      gender  \\\n",
       "0               0.41  CLIP-ViT-B/32 + GPT-4V     25-34       Other   \n",
       "1               0.15  CLIP-ViT-B/32 + GPT-4V     18-24      Female   \n",
       "2               0.48  CLIP-ViT-B/32 + GPT-4V     45-54        Male   \n",
       "3               0.15  CLIP-ViT-B/32 + GPT-4V     18-24  Non-binary   \n",
       "4               0.33  CLIP-ViT-B/32 + GPT-4V     25-34      Female   \n",
       "\n",
       "  emotion_category  \n",
       "0          Neutral  \n",
       "1        Surprised  \n",
       "2        Surprised  \n",
       "3            Angry  \n",
       "4          Neutral  "
      ]
     },
     "execution_count": 3,
     "metadata": {},
     "output_type": "execute_result"
    }
   ],
   "source": [
    "df.head()"
   ]
  },
  {
   "cell_type": "code",
   "execution_count": null,
   "id": "5d827525",
   "metadata": {
    "papermill": {
     "duration": 0.002084,
     "end_time": "2025-08-05T12:00:54.669656",
     "exception": false,
     "start_time": "2025-08-05T12:00:54.667572",
     "status": "completed"
    },
    "tags": []
   },
   "outputs": [],
   "source": []
  }
 ],
 "metadata": {
  "kaggle": {
   "accelerator": "none",
   "dataSources": [
    {
     "datasetId": 7881042,
     "sourceId": 12488977,
     "sourceType": "datasetVersion"
    }
   ],
   "dockerImageVersionId": 31089,
   "isGpuEnabled": false,
   "isInternetEnabled": true,
   "language": "python",
   "sourceType": "notebook"
  },
  "kernelspec": {
   "display_name": "Python 3",
   "language": "python",
   "name": "python3"
  },
  "language_info": {
   "codemirror_mode": {
    "name": "ipython",
    "version": 3
   },
   "file_extension": ".py",
   "mimetype": "text/x-python",
   "name": "python",
   "nbconvert_exporter": "python",
   "pygments_lexer": "ipython3",
   "version": "3.11.13"
  },
  "papermill": {
   "default_parameters": {},
   "duration": 7.907584,
   "end_time": "2025-08-05T12:00:55.194222",
   "environment_variables": {},
   "exception": null,
   "input_path": "__notebook__.ipynb",
   "output_path": "__notebook__.ipynb",
   "parameters": {},
   "start_time": "2025-08-05T12:00:47.286638",
   "version": "2.6.0"
  }
 },
 "nbformat": 4,
 "nbformat_minor": 5
}
